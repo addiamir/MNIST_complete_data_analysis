{
 "cells": [
  {
   "cell_type": "markdown",
   "source": [
    "# Project Overview:\r\n",
    "### Author: Mohammad Adi Amirudin (amirudin.adi@gmail.com)\r\n",
    "\r\n",
    "### Initial Commit: August 6th 2021\r\n",
    "\r\n",
    "### Dataset: MNIST Dataset - scikit-learn \r\n",
    "\r\n",
    "### Software: Python 3.8.10 (Microsoft Visual Code IDE)\r\n",
    "\r\n",
    "### Env: miniconda3 - minianalyst (pandas, notebook, numpy, scikit-learn, statsmodels, matplotlib)\r\n",
    "\r\n",
    "### Goals:\r\n",
    "\r\n",
    "> Preprocessing MNIST dataset\r\n",
    "\r\n",
    "> Employing Classification Models to MNIST Dataset\r\n",
    "\r\n",
    "> Principal Component Analysis to MNIST Dataset\r\n",
    "\r\n",
    "> Dimensionality Reduction to MNIST Dataset\r\n",
    "\r\n",
    "  "
   ],
   "metadata": {}
  },
  {
   "cell_type": "code",
   "execution_count": 1,
   "source": [
    "import pandas as pd\r\n",
    "import numpy as np\r\n",
    "import sklearn as sl\r\n",
    "import matplotlib.pyplot as plt\r\n",
    "from sklearn.datasets import fetch_openml\r\n",
    "from sklearn.linear_model import LogisticRegression\r\n",
    "from sklearn.model_selection import train_test_split\r\n",
    "from sklearn.preprocessing import StandardScaler\r\n",
    "from sklearn.utils import check_random_state\r\n"
   ],
   "outputs": [],
   "metadata": {}
  }
 ],
 "metadata": {
  "orig_nbformat": 4,
  "language_info": {
   "name": "python",
   "version": "3.8.10",
   "mimetype": "text/x-python",
   "codemirror_mode": {
    "name": "ipython",
    "version": 3
   },
   "pygments_lexer": "ipython3",
   "nbconvert_exporter": "python",
   "file_extension": ".py"
  },
  "kernelspec": {
   "name": "python3",
   "display_name": "Python 3.8.10 64-bit ('minianalyst': conda)"
  },
  "interpreter": {
   "hash": "e8aa811ddfa111314fbae5fcf6e4e2f45bc84670dfc4236801c3d6d55c0e6613"
  }
 },
 "nbformat": 4,
 "nbformat_minor": 2
}